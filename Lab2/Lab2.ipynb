{
 "cells": [
  {
   "cell_type": "markdown",
   "id": "a3a6cbc7",
   "metadata": {},
   "source": [
    "### Лабораторная работа 2: Задание 6.2, пункт 1), стр. 175"
   ]
  },
  {
   "cell_type": "markdown",
   "id": "70fbe18a",
   "metadata": {},
   "source": [
    "По 1000 реализаций $\\mathit{S}$ вычисленных по формуле (1), оценить числовые \n",
    "характеристики $\\mathit{S}: S_{min}, S_{max}, E\\{S\\}, D\\{S\\}, P\\{S_1 ≤ S ≤ S_2 \\}$, для следующих \n",
    "значений параметров, входящих в правую часть формулы (1):"
   ]
  },
  {
   "cell_type": "markdown",
   "id": "273d6318",
   "metadata": {},
   "source": [
    "$\\mathit{i_3}$ |8.6 %|8.7 %|8.8 %|9.2 %\n",
    "-----|-----|-----|-----|-----\n",
    "$\\mathit{P}$|0.1|0.3|0.5|0.1"
   ]
  },
  {
   "cell_type": "markdown",
   "id": "8e873fb2",
   "metadata": {},
   "source": [
    "$\\mathit{i_4}$ |8.7 %|8.9 %|9.4 %\n",
    "-----|-----|-----|-----\n",
    "$\\mathit{P}$|0.1|0.6|0.3"
   ]
  },
  {
   "cell_type": "markdown",
   "id": "0add9155",
   "metadata": {},
   "source": [
    "Формула (1):\n",
    "$S = P(1 + n_1i_1 + n_2i_2 + ... + n_ki_k)$                                                    \n",
    "\n"
   ]
  },
  {
   "cell_type": "code",
   "execution_count": 1,
   "id": "8a61c2bd",
   "metadata": {},
   "outputs": [],
   "source": [
    "import numpy as np\n",
    "import pandas as pd\n",
    "from math import floor\n",
    "from scipy.stats import chi2\n",
    "import time\n",
    "\n",
    "import typing as tp\n",
    "\n",
    "from tabulate import tabulate"
   ]
  },
  {
   "cell_type": "markdown",
   "id": "200fbac6",
   "metadata": {},
   "source": [
    "##### Мультипликативный конгруэнтный метод моделирования БСВ "
   ]
  },
  {
   "cell_type": "code",
   "execution_count": 2,
   "id": "422b64ff",
   "metadata": {},
   "outputs": [],
   "source": [
    "def generate_brv_congruential_sample(M: int=2**31, alpha_star0: int=65539, beta :int=65539) -> float:\n",
    "    alpha_t = alpha_star0\n",
    "    while True:\n",
    "        alpha_t = (alpha_t * beta) % M\n",
    "        yield alpha_t / M\n",
    "        \n",
    "def generate_brv_congruential(n: int=100, M: int=2**31, alpha_star0: int=65539, beta :int=65539) -> np.ndarray: \n",
    "    alpha = np.array([])\n",
    "    generator = generate_brv_congruential_sample(M=M, alpha_star0=alpha_star0, beta=beta)\n",
    "    for i in range(n): \n",
    "        alpha = np.append(alpha, next(generator))\n",
    "    return alpha"
   ]
  },
  {
   "cell_type": "markdown",
   "id": "f86a1523",
   "metadata": {},
   "source": [
    "##### Метод Макларена-Марсальи моделирования БСВ для моделирования равномерного распределения на отрезке "
   ]
  },
  {
   "cell_type": "code",
   "execution_count": 3,
   "id": "edd6cdf3",
   "metadata": {},
   "outputs": [],
   "source": [
    "def generate_brv_mm_sample(k: int=128, a:float=0, b:float=1) -> float:\n",
    "    v = np.array([])\n",
    "    brv_cong_b = generate_brv_congruential_sample()\n",
    "    t = time.perf_counter()\n",
    "    alpha_star0 = beta =  int(10**9*float((t-int(t))))\n",
    "    brv_cong_c = generate_brv_congruential_sample(alpha_star0=alpha_star0, beta=beta)\n",
    "    for i in range(k):\n",
    "            v = np.append(v, next(brv_cong_b))\n",
    "    while True:\n",
    "        index = floor(next(brv_cong_c) * k)\n",
    "        alpha_t = v[index]\n",
    "        v[index] = next(brv_cong_b)\n",
    "        yield alpha_t * (b - a) + a\n",
    "        \n",
    "def generate_brv_mm(n: int=100, k: int=128,  a:float=0, b:float=1) -> np.ndarray: \n",
    "    alpha = np.array([])\n",
    "    generator = generate_brv_mm_sample(k=k, a=a, b=b)\n",
    "    for i in range(n):\n",
    "        alpha = np.append(alpha, next(generator))\n",
    "    return alpha"
   ]
  },
  {
   "cell_type": "markdown",
   "id": "86c2b268",
   "metadata": {},
   "source": [
    "##### Алгоритм моделирования ДСВ (для выбора $i_3$ и $i_4$)"
   ]
  },
  {
   "cell_type": "code",
   "execution_count": 4,
   "id": "6837384e",
   "metadata": {},
   "outputs": [],
   "source": [
    "def random_choice(array: list=None, size: int=1, probas: list=None) -> list:\n",
    "    probas_cum = []\n",
    "    last_element = 0\n",
    "    for i in range(len(probas)):\n",
    "        probas_cum.append(last_element + probas[i])\n",
    "        last_element = probas_cum[i]\n",
    "    \n",
    "    generator = generate_brv_mm_sample()\n",
    "    \n",
    "    result = []\n",
    "    for i in range(size):\n",
    "            rand_uniform = next(generator)\n",
    "            for j in range(len(probas_cum)):\n",
    "                if(rand_uniform < probas_cum[j]):\n",
    "                    result.append(array[j])\n",
    "                    break\n",
    "    return result if size > 1 else result[0]"
   ]
  },
  {
   "cell_type": "markdown",
   "id": "0734c162",
   "metadata": {},
   "source": [
    "### Основной цикл программы"
   ]
  },
  {
   "cell_type": "code",
   "execution_count": 5,
   "id": "e8e5b5af",
   "metadata": {},
   "outputs": [],
   "source": [
    "k = 4\n",
    "n = 0.25\n",
    "P = 1230\n",
    "S_interval = [1335, 1340]\n",
    "R = {\"i_1\": (8.2, 9), \"i_2\" : (8.4, 9.1)}\n",
    "probas = {\"i_3\": {8.6: 0.1, 8.7: 0.3, 8.8: 0.5, 9.2: 0.1}, \"i_4\": {8.7: 0.1, 8.9: 0.6, 9.3: 0.3}}\n",
    "\n",
    "N = 1000\n",
    "S = np.ones(N)\n",
    "\n",
    "i_param_full = []\n",
    "\n",
    "for j in range(N):\n",
    "    i_arr = []\n",
    "    for i in range(k):\n",
    "        if i == 0 or i == 1:\n",
    "            generator = generate_brv_mm_sample(a=R[f\"i_{i+1}\"][0], b=R[f\"i_{i+1}\"][1])\n",
    "            i_arr.append(next(generator))\n",
    "        else:\n",
    "            i_arr.append(random_choice(list(probas[f\"i_{i+1}\"].keys()), \\\n",
    "                                          size=1, probas=list(probas[f\"i_{i+1}\"].values())))\n",
    "        S[j] += n * i_arr[i] / 100\n",
    "    i_param_full.append(i_arr)\n",
    "    S[j] *= P"
   ]
  },
  {
   "cell_type": "markdown",
   "id": "e73f724a",
   "metadata": {},
   "source": [
    "### Получены 1000 реализаций  вектора $i = (i_1, i_2, i_3, i_4)$ \n",
    "##### Показаны первые 10"
   ]
  },
  {
   "cell_type": "code",
   "execution_count": 6,
   "id": "3e5a3cf2",
   "metadata": {},
   "outputs": [
    {
     "name": "stdout",
     "output_type": "stream",
     "text": [
      "   i_1     i_2     i_3     i_4\n",
      "------  ------  ------  ------\n",
      "8.7425  8.7333  8.6000  8.7000\n",
      "8.4554  8.9785  8.8000  9.3000\n",
      "8.3795  8.8747  8.8000  8.9000\n",
      "8.7277  8.9193  8.8000  9.3000\n",
      "8.9925  8.6256  8.8000  8.9000\n",
      "8.8290  8.6141  8.8000  8.9000\n",
      "8.2202  8.7418  8.8000  8.9000\n",
      "8.8516  9.0365  8.6000  9.3000\n",
      "8.9131  8.8359  8.8000  9.3000\n",
      "8.6272  8.7709  8.7000  8.9000\n"
     ]
    }
   ],
   "source": [
    "print(tabulate(i_param_full[:10], headers=['i_1', 'i_2', 'i_3', 'i_4'], floatfmt=\".4f\"))"
   ]
  },
  {
   "cell_type": "markdown",
   "id": "99a7eb62",
   "metadata": {},
   "source": [
    "### Получены 1000 реализаций  величины $S$\n",
    "##### Показаны первые 10"
   ]
  },
  {
   "cell_type": "code",
   "execution_count": 7,
   "id": "9e11efd3",
   "metadata": {},
   "outputs": [
    {
     "name": "stdout",
     "output_type": "stream",
     "text": [
      "[1336.93552085 1339.2665159  1337.48414561 1339.92182406 1338.60322711\n",
      " 1338.06503053 1336.58551519 1340.04841013 1340.23552741 1337.61904064]\n"
     ]
    }
   ],
   "source": [
    "print(S[:10])"
   ]
  },
  {
   "cell_type": "markdown",
   "id": "f3467c85",
   "metadata": {},
   "source": [
    "### $S_{min}$"
   ]
  },
  {
   "cell_type": "code",
   "execution_count": 8,
   "id": "6c45546b",
   "metadata": {},
   "outputs": [
    {
     "data": {
      "text/plain": [
       "1334.8673816353535"
      ]
     },
     "execution_count": 8,
     "metadata": {},
     "output_type": "execute_result"
    }
   ],
   "source": [
    "S.min()"
   ]
  },
  {
   "cell_type": "markdown",
   "id": "653e07ee",
   "metadata": {},
   "source": [
    "### $S_{max}$"
   ]
  },
  {
   "cell_type": "code",
   "execution_count": 9,
   "id": "dd24636f",
   "metadata": {},
   "outputs": [
    {
     "data": {
      "text/plain": [
       "1342.3111569800492"
      ]
     },
     "execution_count": 9,
     "metadata": {},
     "output_type": "execute_result"
    }
   ],
   "source": [
    "S.max()"
   ]
  },
  {
   "cell_type": "markdown",
   "id": "ab4c7c24",
   "metadata": {},
   "source": [
    "### $E\\{S\\}$"
   ]
  },
  {
   "cell_type": "code",
   "execution_count": 10,
   "id": "d04a508b",
   "metadata": {},
   "outputs": [
    {
     "data": {
      "text/plain": [
       "1338.3612634573874"
      ]
     },
     "execution_count": 10,
     "metadata": {},
     "output_type": "execute_result"
    }
   ],
   "source": [
    "S.mean()"
   ]
  },
  {
   "cell_type": "markdown",
   "id": "40373d4a",
   "metadata": {},
   "source": [
    "### $D\\{S\\}$"
   ]
  },
  {
   "cell_type": "code",
   "execution_count": 11,
   "id": "3eed3c8f",
   "metadata": {},
   "outputs": [
    {
     "data": {
      "text/plain": [
       "1.8736606525666706"
      ]
     },
     "execution_count": 11,
     "metadata": {},
     "output_type": "execute_result"
    }
   ],
   "source": [
    "S.var()"
   ]
  },
  {
   "cell_type": "markdown",
   "id": "c0da0cae",
   "metadata": {},
   "source": [
    "### $P\\{S_1 ≤ S ≤ S_2 \\}$"
   ]
  },
  {
   "cell_type": "code",
   "execution_count": 12,
   "id": "87cb1c1c",
   "metadata": {},
   "outputs": [
    {
     "data": {
      "text/plain": [
       "0.878"
      ]
     },
     "execution_count": 12,
     "metadata": {},
     "output_type": "execute_result"
    }
   ],
   "source": [
    "len([s for s in S if s <= S_interval[1] and s >= S_interval[0]]) / len(S)"
   ]
  },
  {
   "cell_type": "code",
   "execution_count": null,
   "id": "889c1eb4",
   "metadata": {},
   "outputs": [],
   "source": []
  },
  {
   "cell_type": "code",
   "execution_count": null,
   "id": "ee571dad",
   "metadata": {},
   "outputs": [],
   "source": []
  },
  {
   "cell_type": "code",
   "execution_count": null,
   "id": "4fe79cac",
   "metadata": {},
   "outputs": [],
   "source": []
  }
 ],
 "metadata": {
  "kernelspec": {
   "display_name": "Python3 (bsu-ism)",
   "language": "python",
   "name": "bsu_ism"
  },
  "language_info": {
   "codemirror_mode": {
    "name": "ipython",
    "version": 3
   },
   "file_extension": ".py",
   "mimetype": "text/x-python",
   "name": "python",
   "nbconvert_exporter": "python",
   "pygments_lexer": "ipython3",
   "version": "3.8.10"
  }
 },
 "nbformat": 4,
 "nbformat_minor": 5
}
