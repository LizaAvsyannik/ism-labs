{
 "cells": [
  {
   "cell_type": "markdown",
   "id": "a3a6cbc7",
   "metadata": {},
   "source": [
    "### Лабораторная работа 3"
   ]
  },
  {
   "cell_type": "markdown",
   "id": "70fbe18a",
   "metadata": {},
   "source": [
    "Используя метод Монте-Карло вычислить интеграл:\n",
    "\n",
    "$I = \\int_0^{\\pi/2}cosxdx$.\n",
    "\n",
    "Сравнить полученную оценку с оценкой, полученной по методу выделения главной части ($h(x) = 1 - \\frac{x^2}2$). Сравнить дисперсии этих оценок.\n"
   ]
  },
  {
   "cell_type": "code",
   "execution_count": 87,
   "id": "8a61c2bd",
   "metadata": {},
   "outputs": [],
   "source": [
    "import numpy as np\n",
    "import pandas as pd\n",
    "from math import floor, pi, cos\n",
    "import time\n",
    "from scipy import integrate\n",
    "\n",
    "import typing as tp\n",
    "\n",
    "from tabulate import tabulate"
   ]
  },
  {
   "cell_type": "markdown",
   "id": "200fbac6",
   "metadata": {},
   "source": [
    "##### Мультипликативный конгруэнтный метод моделирования БСВ "
   ]
  },
  {
   "cell_type": "code",
   "execution_count": 88,
   "id": "422b64ff",
   "metadata": {},
   "outputs": [],
   "source": [
    "def generate_brv_congruential_sample(M: int=2**31, alpha_star0: int=65539, beta :int=65539) -> float:\n",
    "    alpha_t = alpha_star0\n",
    "    while True:\n",
    "        alpha_t = (alpha_t * beta) % M\n",
    "        yield alpha_t / M\n",
    "        \n",
    "def generate_brv_congruential(n: int=100, M: int=2**31, alpha_star0: int=65539, beta :int=65539) -> np.ndarray: \n",
    "    alpha = np.array([])\n",
    "    generator = generate_brv_congruential_sample(M=M, alpha_star0=alpha_star0, beta=beta)\n",
    "    for i in range(n): \n",
    "        alpha = np.append(alpha, next(generator))\n",
    "    return alpha"
   ]
  },
  {
   "cell_type": "markdown",
   "id": "f86a1523",
   "metadata": {},
   "source": [
    "##### Метод Макларена-Марсальи моделирования БСВ для моделирования равномерного распределения на отрезке "
   ]
  },
  {
   "cell_type": "code",
   "execution_count": 89,
   "id": "edd6cdf3",
   "metadata": {},
   "outputs": [],
   "source": [
    "def generate_brv_mm_sample(k: int=128, a:float=0, b:float=1) -> float:\n",
    "    v = np.array([])\n",
    "    brv_cong_b = generate_brv_congruential_sample()\n",
    "    t = time.perf_counter()\n",
    "    alpha_star0 = beta =  int(10**9*float((t-int(t))))\n",
    "    brv_cong_c = generate_brv_congruential_sample(alpha_star0=alpha_star0, beta=beta)\n",
    "    for i in range(k):\n",
    "            v = np.append(v, next(brv_cong_b))\n",
    "    while True:\n",
    "        index = floor(next(brv_cong_c) * k)\n",
    "        alpha_t = v[index]\n",
    "        v[index] = next(brv_cong_b)\n",
    "        yield alpha_t * (b - a) + a\n",
    "        \n",
    "def generate_brv_mm(n: int=100, k: int=128,  a:float=0, b:float=1) -> np.ndarray: \n",
    "    alpha = np.array([])\n",
    "    generator = generate_brv_mm_sample(k=k, a=a, b=b)\n",
    "    for i in range(n):\n",
    "        alpha = np.append(alpha, next(generator))\n",
    "    return alpha"
   ]
  },
  {
   "cell_type": "markdown",
   "id": "dab65186",
   "metadata": {},
   "source": [
    "### Основной цикл программы"
   ]
  },
  {
   "cell_type": "markdown",
   "id": "4d02d715",
   "metadata": {},
   "source": [
    "***Метод Монте-Карло:***\n",
    "\n",
    "В качестве $\\xi$ была выбрана СВ равномерно распределенная на отрезке $[0, pi/2]$.\n",
    "\n",
    "Таким образом: $p_{\\xi}(x) = 2 / \\pi > 0, x \\in [x_0, x_1] \\int_{x_0}^{x_1}p_{\\xi}(x)dx = 1$, где $x_0 = 0, x_1 = \\pi / 2 $\n",
    "\n",
    "$\\eta = g(\\xi) = \\frac{cos\\xi}{p_{\\xi}(x)} = \\frac{\\pi cos\\xi}{2} $\n",
    "\n",
    "Можно показать, что $M\\{\\eta\\} = I, D\\{\\eta\\}< \\infty$. Поэтому в качестве приближенного значения интеграла можно использовать статистическую оценку $I_{n}$, построенную в выборке из $n$ независимых случайных величин $\\eta_{1}, \\eta_{2}... \\eta_{n}$:\n",
    "\n",
    "$I_{n} = \\frac{1}{n} \\sum_{i=0}^{n}\\eta_i = \\frac{1}{n} \\sum_{i=0}^{n}\\frac{g(\\xi_i)}{p_\\xi(\\xi_i)}$"
   ]
  },
  {
   "cell_type": "markdown",
   "id": "0734c162",
   "metadata": {},
   "source": [
    "***Метод выделения главной части:***\n",
    "\n",
    "$I = \\int_0^{\\pi/2}cosxdx = \\int_0^{\\pi/2}g(x)p_{\\xi}(x)dx \\int_0^{\\pi/2}\\frac{\\pi}{2}cosx\\frac{2}{\\pi}dx$\n",
    "\n",
    "$h(x) = \\frac{\\pi}{2}(1 - \\frac{x^2}2)$\n",
    "\n",
    "$a = \\int_0^{\\pi/2}h(x)\\frac{2}{\\pi}dx = \\int_0^{\\pi/2}(1 - \\frac{x^2}2)dx = -\\frac{1}{48}\\pi(\\pi^2 - 24)$\n",
    "\n",
    "$\\eta_1 = g_1(\\xi)= a + \\frac{cos(\\xi)}{p_{\\xi}(x)} - \\frac{h(\\xi)}{p_{\\xi}(x)} = a + cos(\\xi)\\frac{\\pi}{2} - (1 - \\frac{\\xi^2}2)\\frac{\\pi}{2}$"
   ]
  },
  {
   "cell_type": "code",
   "execution_count": 90,
   "id": "fd589a2d",
   "metadata": {},
   "outputs": [
    {
     "name": "stdout",
     "output_type": "stream",
     "text": [
      "Истинная величина: 1\n",
      "n = 1000\n",
      "Величина, используя метод Монте-Карло: 0.9843287423637573, Дисперсия = 0.22941040163348658\n",
      "Величина, используя метод выделения главной части: 1.0016535540498026, Дисперсия = 0.009534640826746092\n",
      "n = 5000\n",
      "Величина, используя метод Монте-Карло: 1.0022757389426142, Дисперсия = 0.22936311887120583\n",
      "Величина, используя метод выделения главной части: 0.9990209205504119, Дисперсия = 0.009715987255176904\n",
      "n = 10000\n",
      "Величина, используя метод Монте-Карло: 1.0002487891845766, Дисперсия = 0.23243167728820102\n",
      "Величина, используя метод выделения главной части: 0.999742549046459, Дисперсия = 0.009692428618740302\n",
      "n = 50000\n",
      "Величина, используя метод Монте-Карло: 0.9965093450680339, Дисперсия = 0.23479704425321804\n",
      "Величина, используя метод выделения главной части: 1.0007342830684043, Дисперсия = 0.009901452269712327\n",
      "n = 100000\n",
      "Величина, используя метод Монте-Карло: 0.9967199297335406, Дисперсия = 0.234092183843278\n",
      "Величина, используя метод выделения главной части: 1.0005721121178617, Дисперсия = 0.009833764119653709\n",
      "n = 500000\n",
      "Величина, используя метод Монте-Карло: 1.0008996755188673, Дисперсия = 0.233713978701259\n",
      "Величина, используя метод выделения главной части: 0.9998633312232682, Дисперсия = 0.00977267225043554\n",
      "n = 1000000\n",
      "Величина, используя метод Монте-Карло: 1.000464464193042, Дисперсия = 0.23381803175895477\n",
      "Величина, используя метод выделения главной части: 0.9999493008340916, Дисперсия = 0.009786102825318416\n"
     ]
    }
   ],
   "source": [
    "x_0 = 0\n",
    "x_1 = pi / 2\n",
    "p = 2 / pi\n",
    "\n",
    "h = lambda x: (1 - x**2 / 2)\n",
    "a = integrate.quad(h, x_0, x_1)[0]\n",
    "\n",
    "def cos_main_component(x:float=0) -> float:\n",
    "    return a + cos(x) / p  - (1 - x**2 / 2) / p\n",
    "    \n",
    "\n",
    "print(\"Истинная величина: 1\")\n",
    "\n",
    "for n in [1e3, 5e3, 1e4, 5e4, 1e5, 5e5, 1e6]:\n",
    "    generator = generate_brv_mm_sample(a=x_0, b=x_1)\n",
    "    result_monte_carlo = []\n",
    "    result_main_component = []\n",
    "    for i in range(int(n)):\n",
    "        rand = next(generator)\n",
    "        result_monte_carlo.append(cos(rand) / p)\n",
    "        result_main_component.append(cos_main_component(rand))\n",
    "    result_monte_carlo = np.array(result_monte_carlo)\n",
    "    result_main_component = np.array(result_main_component)\n",
    "    print(f\"n = {int(n)}\")\n",
    "    print(f\"Величина, используя метод Монте-Карло: {result_monte_carlo.mean()}, Дисперсия = {result_monte_carlo.var()}\")\n",
    "    print(f\"Величина, используя метод выделения главной части: {result_main_component.mean()}, Дисперсия = {result_main_component.var()}\")\n",
    "    \n",
    "    "
   ]
  },
  {
   "cell_type": "markdown",
   "id": "9014e3f9",
   "metadata": {},
   "source": [
    "### Аналитическая оценка дисперсий"
   ]
  },
  {
   "cell_type": "markdown",
   "id": "e205ce12",
   "metadata": {},
   "source": [
    "***Метод Монте-Карло***\n",
    "\n",
    "$I = \\int_0^{\\pi/2}cosxdx = \\int_0^{\\pi/2}g(x)p_{\\xi}(x)dx = 1$\n",
    "\n",
    "$M\\{\\eta\\} = I$\n",
    "\n",
    "$D\\{\\eta\\} = M\\{\\eta^2\\}- M\\{\\eta\\}^2 = \\int_0^{\\pi/2}\\frac{\\pi^2cos^2x}{4}\\frac{2}{\\pi}dx - 1 = \\frac{\\pi^2}{8} - 1 = 0.2337$"
   ]
  },
  {
   "cell_type": "code",
   "execution_count": 91,
   "id": "7e773a7b",
   "metadata": {},
   "outputs": [
    {
     "data": {
      "text/plain": [
       "0.23370055013616975"
      ]
     },
     "execution_count": 91,
     "metadata": {},
     "output_type": "execute_result"
    }
   ],
   "source": [
    "pi**2 / 8 - 1"
   ]
  },
  {
   "cell_type": "markdown",
   "id": "68b6926a",
   "metadata": {},
   "source": [
    "***Метод выделения главной части***\n",
    "\n",
    "\n",
    "$M\\{\\eta_1\\} = \\int_0^{\\pi/2}g_1(x)p_\\xi(x)dx = \\int_0^{\\pi/2}(a + cos(x)\\frac{\\pi}{2} - (1 -\\frac{x^2}2)\\frac{\\pi}{2})\\frac{2}{\\pi}dx = 1$\n",
    "\n",
    "\n",
    "$D\\{\\eta_1\\} = M\\{\\eta_1^2\\}- M\\{\\eta_1\\}^2 = \\int_0^{\\pi/2}(a + cos(x)\\frac{\\pi}{2} - (1 -\\frac{x^2}2)\\frac{\\pi}{2})^2\\frac{2}{\\pi}dx - M\\{\\eta_1\\}^2  = 0.0098$"
   ]
  },
  {
   "cell_type": "code",
   "execution_count": 95,
   "id": "10f65531",
   "metadata": {},
   "outputs": [
    {
     "data": {
      "text/plain": [
       "1.0"
      ]
     },
     "execution_count": 95,
     "metadata": {},
     "output_type": "execute_result"
    }
   ],
   "source": [
    "# Mат ожидание\n",
    "from scipy import integrate\n",
    "m = integrate.quad(cos_main_component, 0, pi/2)[0] * p\n",
    "m"
   ]
  },
  {
   "cell_type": "code",
   "execution_count": 96,
   "id": "393c44e9",
   "metadata": {},
   "outputs": [
    {
     "data": {
      "text/plain": [
       "1.009779978785009"
      ]
     },
     "execution_count": 96,
     "metadata": {},
     "output_type": "execute_result"
    }
   ],
   "source": [
    "#Мат ожидание квадрата\n",
    "m_2 = integrate.quad(lambda x: cos_main_component(x) ** 2, 0, pi/2)[0] * p\n",
    "m_2"
   ]
  },
  {
   "cell_type": "code",
   "execution_count": 97,
   "id": "279eeec6",
   "metadata": {},
   "outputs": [
    {
     "data": {
      "text/plain": [
       "0.009779978785009025"
      ]
     },
     "execution_count": 97,
     "metadata": {},
     "output_type": "execute_result"
    }
   ],
   "source": [
    "#Дисперсия\n",
    "d = m_2 - m ** 2\n",
    "d"
   ]
  },
  {
   "cell_type": "code",
   "execution_count": null,
   "id": "ddeabb80",
   "metadata": {},
   "outputs": [],
   "source": []
  }
 ],
 "metadata": {
  "kernelspec": {
   "display_name": "Python3 (bsu-ism)",
   "language": "python",
   "name": "bsu_ism"
  },
  "language_info": {
   "codemirror_mode": {
    "name": "ipython",
    "version": 3
   },
   "file_extension": ".py",
   "mimetype": "text/x-python",
   "name": "python",
   "nbconvert_exporter": "python",
   "pygments_lexer": "ipython3",
   "version": "3.8.10"
  }
 },
 "nbformat": 4,
 "nbformat_minor": 5
}
